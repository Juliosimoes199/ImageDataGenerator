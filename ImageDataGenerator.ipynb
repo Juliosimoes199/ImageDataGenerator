{
 "cells": [
  {
   "cell_type": "code",
   "execution_count": 14,
   "id": "2104395a",
   "metadata": {},
   "outputs": [],
   "source": [
    "from tensorflow.keras.preprocessing.image import ImageDataGenerator # importanto a biblioteca para o tratameto de imagens "
   ]
  },
  {
   "cell_type": "code",
   "execution_count": 27,
   "id": "b2618bdd",
   "metadata": {},
   "outputs": [],
   "source": [
    "datagen = ImageDataGenerator(\n",
    "    width_shift_range = 0.2, # aumentar a largura em 20% aleatoriamente\n",
    "    height_shift_range = 0.2,# aumentar a altura em 20% aleatoriamente\n",
    "    zoom_range = 0.2, # aumentar o zoom\n",
    "    shear_range = 0.2, # trocar o ângulo da imagem aleatoriamente\n",
    "    rotation_range = 45, # rotacionar a imagem num ângulo de 45º\n",
    "    horizontal_flip = True, # permanecer na horizontal\n",
    "    fill_mode = 'nearest', # espelhar a imagem\n",
    "    cval = 125\n",
    ")"
   ]
  },
  {
   "cell_type": "code",
   "execution_count": 28,
   "id": "d27bd672",
   "metadata": {},
   "outputs": [],
   "source": [
    "# importanto outras bibliotecas\n",
    "import numpy as np\n",
    "import os\n",
    "from PIL import Image\n",
    "from skimage import io"
   ]
  },
  {
   "cell_type": "code",
   "execution_count": 33,
   "id": "7f4c36be",
   "metadata": {},
   "outputs": [],
   "source": [
    "dataset = [] # criando uma lista vazia para as minhas imagens\n",
    "\n",
    "image_directory = '/Users/PC/Documents/classificacao_de_imagens/train/imagens_gatos/' # diretório das imagens a serem tratadas \n",
    "my_image = os.listdir(image_directory) # criar uma lista de diretório das imagens\n",
    "for i, name_image in enumerate(my_image): # caminhar nas imagens para estrair os nomes e os índices\n",
    "    if (name_image.split('.')[1] == 'jpg'): # criando uma condição para imagens do formato jpg\n",
    "        image = io.imread(image_directory + name_image) # concaterar os nomes\n",
    "        image = Image.fromarray(image, 'RGB') # fazer conque as imagens estejam no formato RGB ou seja, coloridas\n",
    "        image = image.resize((128, 128)) # ajustando os pixels das imagens num tamanho 128 por 128\n",
    "        dataset.append(np.array(image)) # adicionando as imagens na lista que inicialmente estava vazia"
   ]
  },
  {
   "cell_type": "code",
   "execution_count": 34,
   "id": "2e967137",
   "metadata": {},
   "outputs": [],
   "source": [
    "x = np.array(dataset) # transformar as imagens numa lista de arrays\n",
    "i = 0\n",
    "for batch in datagen.flow(x, batch_size=32,\n",
    "                         save_to_dir = '/Users/PC/Documents/classificacao_de_imagens/train/gato_novo', # salvar num diretório \n",
    "                         save_prefix = 'aug', # prefixo da imagem\n",
    "                         save_format = 'png'): # formato da imagem\n",
    "    i += 1\n",
    "    if i == 15: # quantidades de imagens geradas para cada tipo\n",
    "        break # fim da geração de imagens"
   ]
  },
  {
   "cell_type": "code",
   "execution_count": null,
   "id": "26fd6563",
   "metadata": {},
   "outputs": [],
   "source": []
  }
 ],
 "metadata": {
  "kernelspec": {
   "display_name": "Python 3 (ipykernel)",
   "language": "python",
   "name": "python3"
  },
  "language_info": {
   "codemirror_mode": {
    "name": "ipython",
    "version": 3
   },
   "file_extension": ".py",
   "mimetype": "text/x-python",
   "name": "python",
   "nbconvert_exporter": "python",
   "pygments_lexer": "ipython3",
   "version": "3.11.5"
  }
 },
 "nbformat": 4,
 "nbformat_minor": 5
}
